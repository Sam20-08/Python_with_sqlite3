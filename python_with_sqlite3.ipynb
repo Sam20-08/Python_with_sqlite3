{
 "cells": [
  {
   "cell_type": "code",
   "execution_count": 1,
   "id": "750d0aef",
   "metadata": {},
   "outputs": [],
   "source": [
    "import sqlite3\n",
    "import pandas as pd"
   ]
  },
  {
   "cell_type": "code",
   "execution_count": 9,
   "id": "c4804bf3",
   "metadata": {},
   "outputs": [],
   "source": [
    "# connect to datbase\n",
    "conn=sqlite3.connect('sqlite3.db')\n",
    "cursor=conn.cursor()\n",
    "\n",
    "#create a table\n",
    "\n",
    "cursor.execute('''create table if not exists users(\n",
    "              stu_id integer PRIMARY KEY AUTOINCREMENT,\n",
    "               name varchar(20) not null,\n",
    "               age int not null\n",
    "              )''')\n",
    "\n",
    "conn.commit()"
   ]
  },
  {
   "cell_type": "code",
   "execution_count": 13,
   "id": "6c62a9a1",
   "metadata": {},
   "outputs": [],
   "source": [
    "# inserting the vlaues using list\n",
    "\n",
    "users_list = [\n",
    "    ('Alice', 25),\n",
    "    ('bob', 30),\n",
    "    ('charlie', 25)\n",
    "]\n",
    "\n",
    "# insert users into table\n",
    "cursor.executemany('INSERT INTO users (name, age) VALUES (?, ?)', users_list)\n",
    "conn.commit()"
   ]
  },
  {
   "cell_type": "code",
   "execution_count": 16,
   "id": "75b42ec9",
   "metadata": {},
   "outputs": [],
   "source": [
    "using_dict = [\n",
    "    {'name': 'sam', 'age': 20},\n",
    "    {'name': 'natrajan', 'age': 60}\n",
    "]\n",
    "#Insert inot using a loop \n",
    "for user in using_dict:\n",
    "    name = user['name']\n",
    "    age = user['age']\n",
    "    cursor.execute('INSERT INTO users (name, age) VALUES (?, ?)', (name, age))\n",
    "\n",
    "conn.commit()"
   ]
  },
  {
   "cell_type": "code",
   "execution_count": 15,
   "id": "080bfb08",
   "metadata": {},
   "outputs": [
    {
     "name": "stdout",
     "output_type": "stream",
     "text": [
      "Requirement already satisfied: numpy in c:\\users\\user\\anaconda3\\lib\\site-packages (1.23.5)\n"
     ]
    }
   ],
   "source": [
    "!pip  install numpy"
   ]
  },
  {
   "cell_type": "code",
   "execution_count": 18,
   "id": "333dfbef",
   "metadata": {},
   "outputs": [],
   "source": [
    "import numpy as np"
   ]
  },
  {
   "cell_type": "code",
   "execution_count": 20,
   "id": "e5dad676",
   "metadata": {},
   "outputs": [
    {
     "name": "stdout",
     "output_type": "stream",
     "text": [
      "[(1, 'Alice', 25), (2, 'bob', 30), (3, 'charlie', 25), (4, 'sam', 20), (5, 'natrajan', 60)]\n",
      "[['1' 'Alice' '25']\n",
      " ['2' 'bob' '30']\n",
      " ['3' 'charlie' '25']\n",
      " ['4' 'sam' '20']\n",
      " ['5' 'natrajan' '60']]\n"
     ]
    }
   ],
   "source": [
    "cursor.execute('SELECT * FROM users')\n",
    "rows=cursor.fetchall()\n",
    "print(rows)\n",
    "\n",
    "data_array=np.array(rows)\n",
    "print(data_array)"
   ]
  },
  {
   "cell_type": "markdown",
   "id": "f642247b",
   "metadata": {},
   "source": [
    "# Table 2 finding maximum"
   ]
  },
  {
   "cell_type": "code",
   "execution_count": 24,
   "id": "67edc611",
   "metadata": {},
   "outputs": [],
   "source": [
    "cursor.execute('''CREATE TABLE IF NOT EXISTS numbers (\n",
    "                    id INTEGER PRIMARY KEY,\n",
    "                    value INTEGER\n",
    "                )''')\n",
    "\n",
    "# Define values to insert\n",
    "values_to_insert = [(10,), (20,), (5,), (50,), (25,)]\n",
    "\n",
    "# Insert values using executemany\n",
    "cursor.executemany('INSERT INTO numbers (value) VALUES (?)', values_to_insert)\n",
    "\n",
    "# Commit changes\n",
    "conn.commit()\n"
   ]
  },
  {
   "cell_type": "code",
   "execution_count": 26,
   "id": "367e28f5",
   "metadata": {},
   "outputs": [
    {
     "name": "stdout",
     "output_type": "stream",
     "text": [
      "Maximum value:  50\n"
     ]
    }
   ],
   "source": [
    "#finding max value from the table\n",
    "\n",
    "cursor.execute('SELECT MAX(value) from numbers')\n",
    "#fetch the result\n",
    "max_value=cursor.fetchone()[0]\n",
    "\n",
    "#print the result\n",
    "print(\"Maximum value: \",max_value)\n",
    "\n",
    "#close the cursor\n",
    "\n",
    "cursor.close()\n",
    "conn.close()"
   ]
  },
  {
   "cell_type": "markdown",
   "id": "c72797fa",
   "metadata": {},
   "source": [
    "\n",
    "# Table 3 (inner join)"
   ]
  },
  {
   "cell_type": "code",
   "execution_count": 32,
   "id": "30524dde",
   "metadata": {},
   "outputs": [],
   "source": [
    "import sqlite3\n",
    "\n",
    "# Connect to the database (assuming example.db exists)\n",
    "conn = sqlite3.connect('example.db')\n",
    "cursor = conn.cursor()\n",
    "\n",
    "# Create tables if they do not exist\n",
    "cursor.execute('''CREATE TABLE IF NOT EXISTS departments (\n",
    "                    id INTEGER PRIMARY KEY,\n",
    "                    department_name TEXT\n",
    "                )''')\n",
    "\n",
    "cursor.execute('''CREATE TABLE IF NOT EXISTS employees (\n",
    "                    id INTEGER PRIMARY KEY,\n",
    "                    name TEXT,\n",
    "                    department_id INTEGER,\n",
    "                    FOREIGN KEY (department_id) REFERENCES departments(id)\n",
    "                )''')\n",
    "\n",
    "# Insert sample data into departments table\n",
    "cursor.execute('INSERT INTO departments (department_name) VALUES (\"HR\")')\n",
    "cursor.execute('INSERT INTO departments (department_name) VALUES (\"Engineering\")')\n",
    "\n",
    "# Insert sample data into employees table\n",
    "cursor.execute('INSERT INTO employees (name, department_id) VALUES (\"JOHN\", 1)')\n",
    "cursor.execute('INSERT INTO employees (name, department_id) VALUES (\"kumar\", 2)')\n",
    "cursor.execute('INSERT INTO employees (name, department_id) VALUES (\"SAM\", 1)')\n",
    "\n",
    "# Commit changes\n",
    "conn.commit()\n",
    "\n",
    "\n"
   ]
  },
  {
   "cell_type": "code",
   "execution_count": 34,
   "id": "93d2452e",
   "metadata": {},
   "outputs": [
    {
     "name": "stdout",
     "output_type": "stream",
     "text": [
      "('JOHN', 'HR')\n",
      "('kumar', 'Engineering')\n",
      "('SAM', 'HR')\n",
      "('JOHN', 'HR')\n",
      "('kumar', 'Engineering')\n",
      "('SAM', 'HR')\n"
     ]
    }
   ],
   "source": [
    "query = '''\n",
    "SELECT employees.name, departments.department_name\n",
    "FROM employees\n",
    "INNER JOIN departments ON employees.department_id = departments.id\n",
    "'''\n",
    "\n",
    "# Execute the query\n",
    "cursor.execute(query)\n",
    "\n",
    "# Fetch all results\n",
    "results = cursor.fetchall()\n",
    "\n",
    "# Print or process results as needed\n",
    "for row in results:\n",
    "    print(row)  # Example: printing each row\n",
    "\n",
    "# Close the connection\n",
    "conn.close()"
   ]
  },
  {
   "cell_type": "code",
   "execution_count": null,
   "id": "37a7bd32",
   "metadata": {},
   "outputs": [],
   "source": []
  }
 ],
 "metadata": {
  "kernelspec": {
   "display_name": "Python 3 (ipykernel)",
   "language": "python",
   "name": "python3"
  },
  "language_info": {
   "codemirror_mode": {
    "name": "ipython",
    "version": 3
   },
   "file_extension": ".py",
   "mimetype": "text/x-python",
   "name": "python",
   "nbconvert_exporter": "python",
   "pygments_lexer": "ipython3",
   "version": "3.10.9"
  }
 },
 "nbformat": 4,
 "nbformat_minor": 5
}
